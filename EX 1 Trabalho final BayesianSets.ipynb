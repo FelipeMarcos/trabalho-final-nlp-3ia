{
 "cells": [
  {
   "cell_type": "code",
   "execution_count": null,
   "metadata": {},
   "outputs": [],
   "source": [
    "import numpy as np\n",
    "from scipy.sparse import csr_matrix"
   ]
  },
  {
   "cell_type": "code",
   "execution_count": 1,
   "metadata": {},
   "outputs": [],
   "source": [
    "class BayesianSets:\n",
    "    def __init__(self, dataset, c=2):\n",
    "        self.dataset = csr_matrix(dataset)\n",
    "\n",
    "        m = np.mean(self.dataset, 0)\n",
    "\n",
    "        self.alpha = c * m\n",
    "        self.beta = c * (1 - m)\n",
    "\n",
    "        self.logAlpha = np.log(self.alpha)\n",
    "        self.logBeta = np.log(self.beta)\n",
    "        self.logAlphaBeta = np.log(self.alpha + self.beta)\n",
    "\n",
    "    def compute_parameters(self, query_indices):\n",
    "        N = len(query_indices)\n",
    "\n",
    "        sum_x = np.sum(self.dataset[query_indices], axis=0)\n",
    "\n",
    "        alphaTilde = self.alpha + sum_x\n",
    "        betaTilde = self.beta + N - sum_x\n",
    "        logAlphaTilde = np.log(alphaTilde)\n",
    "        logBetaTilde = np.log(betaTilde)\n",
    "        logAlphaBetaN = np.log(self.alpha + self.beta + N)\n",
    "\n",
    "        query = logAlphaTilde - self.logAlpha - logBetaTilde + self.logBeta\n",
    "        constant = np.sum(self.logAlphaBeta - logAlphaBetaN + logBetaTilde - self.logBeta)\n",
    "\n",
    "        return query, constant\n",
    "\n",
    "    def compute_scores(self, query_indices):\n",
    "        q, nc = self.compute_parameters(query_indices)\n",
    "        Xq = self.dataset * q.transpose()\n",
    "\n",
    "        score = nc + Xq\n",
    "\n",
    "        return np.asarray(score).flatten()"
   ]
  }
 ],
 "metadata": {
  "kernelspec": {
   "display_name": "Python 3",
   "language": "python",
   "name": "python3"
  },
  "language_info": {
   "codemirror_mode": {
    "name": "ipython",
    "version": 3
   },
   "file_extension": ".py",
   "mimetype": "text/x-python",
   "name": "python",
   "nbconvert_exporter": "python",
   "pygments_lexer": "ipython3",
   "version": "3.6.8"
  }
 },
 "nbformat": 4,
 "nbformat_minor": 2
}
