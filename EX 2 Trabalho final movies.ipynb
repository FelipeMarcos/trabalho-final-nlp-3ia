{
 "cells": [
  {
   "cell_type": "code",
   "execution_count": 5,
   "metadata": {},
   "outputs": [],
   "source": [
    "import pandas as pd\n",
    "import numpy as np\n",
    "from scipy.sparse import csr_matrix\n",
    "from sklearn.feature_extraction.text import TfidfVectorizer, CountVectorizer\n",
    "import re"
   ]
  },
  {
   "cell_type": "code",
   "execution_count": 6,
   "metadata": {},
   "outputs": [],
   "source": [
    "class BayesianSets:\n",
    "    def __init__(self, dataset, c=2):\n",
    "        self.dataset = csr_matrix(dataset)\n",
    "\n",
    "        m = np.mean(self.dataset, 0)\n",
    "\n",
    "        self.alpha = c * m\n",
    "        self.beta = c * (1 - m)\n",
    "\n",
    "        self.logAlpha = np.log(self.alpha)\n",
    "        self.logBeta = np.log(self.beta)\n",
    "        self.logAlphaBeta = np.log(self.alpha + self.beta)\n",
    "\n",
    "    def compute_parameters(self, query_indices):\n",
    "        N = len(query_indices)\n",
    "\n",
    "        sum_x = np.sum(self.dataset[query_indices], axis=0)\n",
    "\n",
    "        alphaTilde = self.alpha + sum_x\n",
    "        betaTilde = self.beta + N - sum_x\n",
    "        logAlphaTilde = np.log(alphaTilde)\n",
    "        logBetaTilde = np.log(betaTilde)\n",
    "        logAlphaBetaN = np.log(self.alpha + self.beta + N)\n",
    "\n",
    "        query = logAlphaTilde - self.logAlpha - logBetaTilde + self.logBeta\n",
    "        constant = np.sum(self.logAlphaBeta - logAlphaBetaN + logBetaTilde - self.logBeta)\n",
    "\n",
    "        return query, constant\n",
    "\n",
    "    def compute_scores(self, query_indices):\n",
    "        q, nc = self.compute_parameters(query_indices)\n",
    "        Xq = self.dataset * q.transpose()\n",
    "\n",
    "        score = nc + Xq\n",
    "\n",
    "        return np.asarray(score).flatten()"
   ]
  },
  {
   "cell_type": "code",
   "execution_count": 7,
   "metadata": {},
   "outputs": [],
   "source": [
    "class TreatText:\n",
    "    def removeNumbers(self, text):\n",
    "        return re.sub('\\s\\(\\d+\\)', '', text)\n",
    "\n",
    "    def lower(self, text):\n",
    "        return text.lower()\n",
    "\n",
    "    def run(self, text):\n",
    "        t = self.removeNumbers(text)\n",
    "        t = self.lower(t)\n",
    "        return t"
   ]
  },
  {
   "cell_type": "code",
   "execution_count": 8,
   "metadata": {},
   "outputs": [],
   "source": [
    "\n",
    "# Load Movies from CSV\n",
    "df = pd.read_csv('datasets/movies.csv', index_col=0)\n",
    "df['title'] = df['title'].apply(TreatText().run)\n",
    "\n",
    "# Find similar movies\n",
    "query = np.array([\n",
    "    'toy story',\n",
    "    'the lion king',\n",
    "    'alladin',\n",
    "    'beauty and the best',\n",
    "    'cinderella',\n",
    "    'little mermaid',\n",
    "    'hercules'\n",
    "])\n",
    "\n",
    "query_ids = df.loc[df['title'].isin(query)].index.tolist()\n",
    "query_ids = np.array(query_ids)\n",
    "\n",
    "X = TfidfVectorizer().fit_transform(df['title'])\n",
    "\n",
    "model = BayesianSets(X)\n",
    "\n",
    "# ranking = np.argsort(model.compute_scores(query_ids))[::-1]\n",
    "# top10 = ranking[:10]"
   ]
  },
  {
   "cell_type": "code",
   "execution_count": null,
   "metadata": {},
   "outputs": [],
   "source": []
  }
 ],
 "metadata": {
  "kernelspec": {
   "display_name": "Python 3",
   "language": "python",
   "name": "python3"
  },
  "language_info": {
   "codemirror_mode": {
    "name": "ipython",
    "version": 3
   },
   "file_extension": ".py",
   "mimetype": "text/x-python",
   "name": "python",
   "nbconvert_exporter": "python",
   "pygments_lexer": "ipython3",
   "version": "3.6.8"
  }
 },
 "nbformat": 4,
 "nbformat_minor": 2
}
